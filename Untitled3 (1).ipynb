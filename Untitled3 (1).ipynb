{
 "cells": [
  {
   "cell_type": "code",
   "execution_count": null,
   "metadata": {},
   "outputs": [],
   "source": []
  },
  {
   "cell_type": "code",
   "execution_count": 3,
   "metadata": {},
   "outputs": [
    {
     "name": "stdout",
     "output_type": "stream",
     "text": [
      "votre nom :binta\n",
      "binta\n",
      "binta\n",
      "binta\n"
     ]
    }
   ],
   "source": [
    "nom= input(\"votre nom :\")\n",
    "print(nom)\n",
    "print(nom)\n",
    "print(nom)\n",
    " "
   ]
  },
  {
   "cell_type": "code",
   "execution_count": null,
   "metadata": {},
   "outputs": [],
   "source": [
    "\n"
   ]
  },
  {
   "cell_type": "code",
   "execution_count": 42,
   "metadata": {},
   "outputs": [
    {
     "ename": "IndentationError",
     "evalue": "unindent does not match any outer indentation level (<tokenize>, line 6)",
     "output_type": "error",
     "traceback": [
      "\u001b[0;36m  File \u001b[0;32m\"<tokenize>\"\u001b[0;36m, line \u001b[0;32m6\u001b[0m\n\u001b[0;31m    elif (N==1):\u001b[0m\n\u001b[0m    ^\u001b[0m\n\u001b[0;31mIndentationError\u001b[0m\u001b[0;31m:\u001b[0m unindent does not match any outer indentation level\n"
     ]
    }
   ],
   "source": [
    "\n",
    "print(\"un nombre entre 0 et 6,N\")\n",
    "N=input()\n",
    "N=int(N)\n",
    "    if (N==0):\n",
    "        print(\"Lundi\")\n",
    "      elif (N==1):\n",
    "        print(\"Mardi\")\n",
    "     elif (N==2):\n",
    "        print(\"Mercredi\")\n",
    "     elif (N==3):\n",
    "        print(\"Jeudi\")\n",
    "     elif (N==4):\n",
    "        print(\"Vendredi\")\n",
    "    else\n",
    "       print(\"Week-end\")"
   ]
  },
  {
   "cell_type": "code",
   "execution_count": 26,
   "metadata": {},
   "outputs": [
    {
     "name": "stdout",
     "output_type": "stream",
     "text": [
      "binta\n",
      "binta\n",
      "binta\n"
     ]
    }
   ],
   "source": [
    "for i in range(3):\n",
    "    print(\"binta\")\n",
    "    "
   ]
  },
  {
   "cell_type": "code",
   "execution_count": 20,
   "metadata": {},
   "outputs": [
    {
     "ename": "SyntaxError",
     "evalue": "invalid syntax (<ipython-input-20-7bfe298d1f0f>, line 2)",
     "output_type": "error",
     "traceback": [
      "\u001b[0;36m  File \u001b[0;32m\"<ipython-input-20-7bfe298d1f0f>\"\u001b[0;36m, line \u001b[0;32m2\u001b[0m\n\u001b[0;31m    while nom < 3\u001b[0m\n\u001b[0m                 ^\u001b[0m\n\u001b[0;31mSyntaxError\u001b[0m\u001b[0;31m:\u001b[0m invalid syntax\n"
     ]
    }
   ],
   "source": [
    "nom=0\n",
    "while nom < 3\n",
    "     nom=\"binta\"\n",
    "      print(\"nom\")"
   ]
  },
  {
   "cell_type": "code",
   "execution_count": 2,
   "metadata": {},
   "outputs": [
    {
     "name": "stdout",
     "output_type": "stream",
     "text": [
      "Entrez un nombre: 4\n",
      "\n",
      " la suite fibonacci est :\n",
      "0 , 1, 1, 2, 3, 5, 8, 13, 21, 34, 55, 89, 144, 233, 377, "
     ]
    }
   ],
   "source": [
    "nterms = int(input(\"Entrez un nombre: \"))\n",
    " \n",
    "a0 = 0\n",
    "a1 = 1\n",
    " \n",
    "print(\"\\n la suite fibonacci est :\")\n",
    "print(a0, \",\", a1, end=\", \")\n",
    " \n",
    "for i in range(2, 15):\n",
    "  suivant = a0 + a1\n",
    "  print(suivant, end=\", \")\n",
    " \n",
    "  a0 = a1\n",
    "  a1 = suivant"
   ]
  },
  {
   "cell_type": "code",
   "execution_count": null,
   "metadata": {},
   "outputs": [],
   "source": []
  },
  {
   "cell_type": "code",
   "execution_count": null,
   "metadata": {},
   "outputs": [],
   "source": []
  }
 ],
 "metadata": {
  "kernelspec": {
   "display_name": "Python 3",
   "language": "python",
   "name": "python3"
  },
  "language_info": {
   "codemirror_mode": {
    "name": "ipython",
    "version": 3
   },
   "file_extension": ".py",
   "mimetype": "text/x-python",
   "name": "python",
   "nbconvert_exporter": "python",
   "pygments_lexer": "ipython3",
   "version": "3.8.5"
  }
 },
 "nbformat": 4,
 "nbformat_minor": 4
}
